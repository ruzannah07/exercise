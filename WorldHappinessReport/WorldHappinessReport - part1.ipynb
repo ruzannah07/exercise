{
 "cells": [
  {
   "cell_type": "markdown",
   "metadata": {},
   "source": [
    "## Lets cleaning and preparing our data to get true insight"
   ]
  },
  {
   "cell_type": "code",
   "execution_count": 350,
   "metadata": {},
   "outputs": [],
   "source": [
    "import matplotlib.pyplot as plt\n",
    "import pandas as pd\n",
    "import numpy as np\n",
    "import warnings \n",
    "warnings.filterwarnings('ignore')"
   ]
  },
  {
   "cell_type": "code",
   "execution_count": 351,
   "metadata": {},
   "outputs": [],
   "source": [
    "data2015 = pd.read_csv('2015.csv')\n",
    "data2016 = pd.read_csv('2016.csv')\n",
    "data2017 = pd.read_csv('2017.csv')"
   ]
  },
  {
   "cell_type": "code",
   "execution_count": 352,
   "metadata": {},
   "outputs": [],
   "source": [
    "data2015.columns = ['Country','Region','HappinessRank','HappinessScore', 'StandandardError','Economy','Family',\n",
    "                    'Health','Freedom','Corruption','Generosity','DystopiaResidual']\n",
    "data2016.columns = ['Country','Region','HappinessRank','HappinessScore','LowerConfidence','UpperConfidence', 'Economy','Family',\n",
    "                    'Health','Freedom','Corruption','Generosity','DystopiaResidual']\n",
    "data2017.columns = ['Country','HappinessRank','HappinessScore','WhiskerHigh','WhiskerLow','Economy','Family',\n",
    "                    'Health','Freedom','Generosity','Corruption','DystopiaResidual']"
   ]
  },
  {
   "cell_type": "markdown",
   "metadata": {},
   "source": [
    "## change data into categorical data"
   ]
  },
  {
   "cell_type": "code",
   "execution_count": 353,
   "metadata": {},
   "outputs": [
    {
     "data": {
      "text/plain": [
       "False"
      ]
     },
     "execution_count": 353,
     "metadata": {},
     "output_type": "execute_result"
    }
   ],
   "source": [
    "#Country #Region #HappinessRank\n",
    "#converting into category\n",
    "\n",
    "data2015.Country = data2015.Country.astype('category')\n",
    "data2016.Country = data2016.Country.astype('category')\n",
    "data2017.Country = data2017.Country.astype('category')\n",
    "\n",
    "data2015.Region = data2015.Region.astype('category')\n",
    "data2016.Region = data2016.Region.astype('category')\n",
    "\n",
    "data2015.HappinessRank = data2015.HappinessRank.astype('category')\n",
    "data2016.HappinessRank = data2016.HappinessRank.astype('category')\n",
    "data2017.HappinessRank = data2017.HappinessRank.astype('category')\n",
    "\n",
    "country2015 = data2015.Country.cat.categories\n",
    "country2015\n",
    "\n",
    "country2016 = data2016.Country.cat.categories\n",
    "country2016\n",
    "\n",
    "#nb: cek tiap isi list ke tiap isi list lainnya\n",
    "all(x in country2015 for x in country2016)\n",
    "#ada nama country2015 yg tdk terdapat pada country2016"
   ]
  },
  {
   "cell_type": "markdown",
   "metadata": {},
   "source": [
    "## check missing data"
   ]
  },
  {
   "cell_type": "code",
   "execution_count": 354,
   "metadata": {},
   "outputs": [
    {
     "name": "stdout",
     "output_type": "stream",
     "text": [
      "<class 'pandas.core.frame.DataFrame'>\n",
      "RangeIndex: 158 entries, 0 to 157\n",
      "Data columns (total 12 columns):\n",
      "Country             158 non-null category\n",
      "Region              158 non-null category\n",
      "HappinessRank       158 non-null category\n",
      "HappinessScore      158 non-null float64\n",
      "StandandardError    158 non-null float64\n",
      "Economy             158 non-null float64\n",
      "Family              158 non-null float64\n",
      "Health              158 non-null float64\n",
      "Freedom             158 non-null float64\n",
      "Corruption          158 non-null float64\n",
      "Generosity          158 non-null float64\n",
      "DystopiaResidual    158 non-null float64\n",
      "dtypes: category(3), float64(9)\n",
      "memory usage: 24.8 KB\n"
     ]
    }
   ],
   "source": [
    "data2015.info()"
   ]
  },
  {
   "cell_type": "code",
   "execution_count": 355,
   "metadata": {},
   "outputs": [
    {
     "name": "stdout",
     "output_type": "stream",
     "text": [
      "<class 'pandas.core.frame.DataFrame'>\n",
      "RangeIndex: 157 entries, 0 to 156\n",
      "Data columns (total 13 columns):\n",
      "Country             157 non-null category\n",
      "Region              157 non-null category\n",
      "HappinessRank       157 non-null category\n",
      "HappinessScore      157 non-null float64\n",
      "LowerConfidence     157 non-null float64\n",
      "UpperConfidence     157 non-null float64\n",
      "Economy             157 non-null float64\n",
      "Family              157 non-null float64\n",
      "Health              157 non-null float64\n",
      "Freedom             157 non-null float64\n",
      "Corruption          157 non-null float64\n",
      "Generosity          157 non-null float64\n",
      "DystopiaResidual    157 non-null float64\n",
      "dtypes: category(3), float64(10)\n",
      "memory usage: 25.9 KB\n"
     ]
    }
   ],
   "source": [
    "data2016.info()"
   ]
  },
  {
   "cell_type": "code",
   "execution_count": 356,
   "metadata": {},
   "outputs": [
    {
     "name": "stdout",
     "output_type": "stream",
     "text": [
      "<class 'pandas.core.frame.DataFrame'>\n",
      "RangeIndex: 155 entries, 0 to 154\n",
      "Data columns (total 12 columns):\n",
      "Country             155 non-null category\n",
      "HappinessRank       155 non-null category\n",
      "HappinessScore      155 non-null float64\n",
      "WhiskerHigh         155 non-null float64\n",
      "WhiskerLow          155 non-null float64\n",
      "Economy             155 non-null float64\n",
      "Family              155 non-null float64\n",
      "Health              155 non-null float64\n",
      "Freedom             155 non-null float64\n",
      "Generosity          155 non-null float64\n",
      "Corruption          155 non-null float64\n",
      "DystopiaResidual    155 non-null float64\n",
      "dtypes: category(2), float64(10)\n",
      "memory usage: 25.2 KB\n"
     ]
    }
   ],
   "source": [
    "data2017.info()"
   ]
  },
  {
   "cell_type": "code",
   "execution_count": 357,
   "metadata": {},
   "outputs": [],
   "source": [
    "#nb: show the missing value by column\n",
    "#data2016[data2016.isnull().any(axis=1)]\n",
    "#data2017[data2017.Region.isnull()]"
   ]
  },
  {
   "cell_type": "markdown",
   "metadata": {},
   "source": [
    "### Cool. there is no missing data"
   ]
  },
  {
   "cell_type": "code",
   "execution_count": 358,
   "metadata": {},
   "outputs": [],
   "source": [
    "#nb: fungsi untuk mengurangi lists of string dg list of string juga\n",
    "#newlistIsnt = [x for x in R2015Country if x not in R2016Country]"
   ]
  },
  {
   "cell_type": "code",
   "execution_count": 359,
   "metadata": {},
   "outputs": [],
   "source": [
    "#nb: replace nilai nan/null\n",
    "#data2016 = data2016.replace(np.nan, 'Unknown')\n",
    "#df.column1 = df.column1.fillna('')\n",
    "#df = df.fillna('')"
   ]
  },
  {
   "cell_type": "markdown",
   "metadata": {},
   "source": [
    "## add 'Region'  to our data2017 with merging data2015 & data2016 into data2017"
   ]
  },
  {
   "cell_type": "code",
   "execution_count": 360,
   "metadata": {},
   "outputs": [
    {
     "name": "stdout",
     "output_type": "stream",
     "text": [
      "<class 'pandas.core.frame.DataFrame'>\n",
      "Int64Index: 155 entries, 0 to 154\n",
      "Data columns (total 13 columns):\n",
      "Country             155 non-null object\n",
      "Region              149 non-null category\n",
      "HappinessRank       155 non-null category\n",
      "HappinessScore      155 non-null float64\n",
      "WhiskerHigh         155 non-null float64\n",
      "WhiskerLow          155 non-null float64\n",
      "Economy             155 non-null float64\n",
      "Family              155 non-null float64\n",
      "Health              155 non-null float64\n",
      "Freedom             155 non-null float64\n",
      "Generosity          155 non-null float64\n",
      "Corruption          155 non-null float64\n",
      "DystopiaResidual    155 non-null float64\n",
      "dtypes: category(2), float64(10), object(1)\n",
      "memory usage: 21.6+ KB\n"
     ]
    }
   ],
   "source": [
    "region2015 = data2015[['Country','Region']]\n",
    "region2016 = data2016[['Country','Region']]\n",
    "#nb: merging data\n",
    "# how: left = data di left tulis semua\n",
    "# right- data di right tulis semua\n",
    "# inner - irisan\n",
    "# outer - gabungan\n",
    "data2017 = pd.merge(data2017, region2015, how='left', on='Country')\n",
    "data2017 = data2017[['Country','Region','HappinessRank','HappinessScore','WhiskerHigh','WhiskerLow','Economy','Family',\n",
    "            'Health','Freedom','Generosity','Corruption','DystopiaResidual']]\n",
    "data2017.info()"
   ]
  },
  {
   "cell_type": "code",
   "execution_count": 361,
   "metadata": {},
   "outputs": [
    {
     "data": {
      "text/html": [
       "<div>\n",
       "<style scoped>\n",
       "    .dataframe tbody tr th:only-of-type {\n",
       "        vertical-align: middle;\n",
       "    }\n",
       "\n",
       "    .dataframe tbody tr th {\n",
       "        vertical-align: top;\n",
       "    }\n",
       "\n",
       "    .dataframe thead th {\n",
       "        text-align: right;\n",
       "    }\n",
       "</style>\n",
       "<table border=\"1\" class=\"dataframe\">\n",
       "  <thead>\n",
       "    <tr style=\"text-align: right;\">\n",
       "      <th></th>\n",
       "      <th>Country</th>\n",
       "      <th>Region</th>\n",
       "      <th>HappinessRank</th>\n",
       "      <th>HappinessScore</th>\n",
       "      <th>WhiskerHigh</th>\n",
       "      <th>WhiskerLow</th>\n",
       "      <th>Economy</th>\n",
       "      <th>Family</th>\n",
       "      <th>Health</th>\n",
       "      <th>Freedom</th>\n",
       "      <th>Generosity</th>\n",
       "      <th>Corruption</th>\n",
       "      <th>DystopiaResidual</th>\n",
       "    </tr>\n",
       "  </thead>\n",
       "  <tbody>\n",
       "    <tr>\n",
       "      <th>32</th>\n",
       "      <td>Taiwan Province of China</td>\n",
       "      <td>NaN</td>\n",
       "      <td>33</td>\n",
       "      <td>6.422</td>\n",
       "      <td>6.494596</td>\n",
       "      <td>6.349404</td>\n",
       "      <td>1.433627</td>\n",
       "      <td>1.384565</td>\n",
       "      <td>0.793984</td>\n",
       "      <td>0.361467</td>\n",
       "      <td>0.258360</td>\n",
       "      <td>0.063829</td>\n",
       "      <td>2.126607</td>\n",
       "    </tr>\n",
       "    <tr>\n",
       "      <th>49</th>\n",
       "      <td>Belize</td>\n",
       "      <td>NaN</td>\n",
       "      <td>50</td>\n",
       "      <td>5.956</td>\n",
       "      <td>6.197242</td>\n",
       "      <td>5.714757</td>\n",
       "      <td>0.907975</td>\n",
       "      <td>1.081418</td>\n",
       "      <td>0.450192</td>\n",
       "      <td>0.547509</td>\n",
       "      <td>0.240016</td>\n",
       "      <td>0.096581</td>\n",
       "      <td>2.631956</td>\n",
       "    </tr>\n",
       "    <tr>\n",
       "      <th>70</th>\n",
       "      <td>Hong Kong S.A.R., China</td>\n",
       "      <td>NaN</td>\n",
       "      <td>71</td>\n",
       "      <td>5.472</td>\n",
       "      <td>5.549594</td>\n",
       "      <td>5.394406</td>\n",
       "      <td>1.551675</td>\n",
       "      <td>1.262791</td>\n",
       "      <td>0.943062</td>\n",
       "      <td>0.490969</td>\n",
       "      <td>0.374466</td>\n",
       "      <td>0.293934</td>\n",
       "      <td>0.554633</td>\n",
       "    </tr>\n",
       "    <tr>\n",
       "      <th>92</th>\n",
       "      <td>Somalia</td>\n",
       "      <td>NaN</td>\n",
       "      <td>93</td>\n",
       "      <td>5.151</td>\n",
       "      <td>5.242484</td>\n",
       "      <td>5.059516</td>\n",
       "      <td>0.022643</td>\n",
       "      <td>0.721151</td>\n",
       "      <td>0.113989</td>\n",
       "      <td>0.602127</td>\n",
       "      <td>0.291631</td>\n",
       "      <td>0.282410</td>\n",
       "      <td>3.117485</td>\n",
       "    </tr>\n",
       "    <tr>\n",
       "      <th>110</th>\n",
       "      <td>Namibia</td>\n",
       "      <td>NaN</td>\n",
       "      <td>111</td>\n",
       "      <td>4.574</td>\n",
       "      <td>4.770355</td>\n",
       "      <td>4.377645</td>\n",
       "      <td>0.964434</td>\n",
       "      <td>1.098471</td>\n",
       "      <td>0.338612</td>\n",
       "      <td>0.520304</td>\n",
       "      <td>0.077134</td>\n",
       "      <td>0.093147</td>\n",
       "      <td>1.481890</td>\n",
       "    </tr>\n",
       "    <tr>\n",
       "      <th>146</th>\n",
       "      <td>South Sudan</td>\n",
       "      <td>NaN</td>\n",
       "      <td>147</td>\n",
       "      <td>3.591</td>\n",
       "      <td>3.725539</td>\n",
       "      <td>3.456462</td>\n",
       "      <td>0.397249</td>\n",
       "      <td>0.601323</td>\n",
       "      <td>0.163486</td>\n",
       "      <td>0.147062</td>\n",
       "      <td>0.285671</td>\n",
       "      <td>0.116794</td>\n",
       "      <td>1.879567</td>\n",
       "    </tr>\n",
       "  </tbody>\n",
       "</table>\n",
       "</div>"
      ],
      "text/plain": [
       "                      Country Region HappinessRank  HappinessScore  \\\n",
       "32   Taiwan Province of China    NaN            33           6.422   \n",
       "49                     Belize    NaN            50           5.956   \n",
       "70    Hong Kong S.A.R., China    NaN            71           5.472   \n",
       "92                    Somalia    NaN            93           5.151   \n",
       "110                   Namibia    NaN           111           4.574   \n",
       "146               South Sudan    NaN           147           3.591   \n",
       "\n",
       "     WhiskerHigh  WhiskerLow   Economy    Family    Health   Freedom  \\\n",
       "32      6.494596    6.349404  1.433627  1.384565  0.793984  0.361467   \n",
       "49      6.197242    5.714757  0.907975  1.081418  0.450192  0.547509   \n",
       "70      5.549594    5.394406  1.551675  1.262791  0.943062  0.490969   \n",
       "92      5.242484    5.059516  0.022643  0.721151  0.113989  0.602127   \n",
       "110     4.770355    4.377645  0.964434  1.098471  0.338612  0.520304   \n",
       "146     3.725539    3.456462  0.397249  0.601323  0.163486  0.147062   \n",
       "\n",
       "     Generosity  Corruption  DystopiaResidual  \n",
       "32     0.258360    0.063829          2.126607  \n",
       "49     0.240016    0.096581          2.631956  \n",
       "70     0.374466    0.293934          0.554633  \n",
       "92     0.291631    0.282410          3.117485  \n",
       "110    0.077134    0.093147          1.481890  \n",
       "146    0.285671    0.116794          1.879567  "
      ]
     },
     "execution_count": 361,
     "metadata": {},
     "output_type": "execute_result"
    }
   ],
   "source": [
    "data2017[data2017.isnull().any(axis=1)]"
   ]
  },
  {
   "cell_type": "code",
   "execution_count": 362,
   "metadata": {},
   "outputs": [],
   "source": [
    "# list2016Country = list(data2016['Country'])\n",
    "# list2016Region = list(data2016['Region'])\n",
    "# #nb:create a new dictionary from 2 list\n",
    "# dict2016 = dict(zip(list2016Country, list2016Region))\n",
    "# dict2016"
   ]
  },
  {
   "cell_type": "code",
   "execution_count": 363,
   "metadata": {},
   "outputs": [],
   "source": [
    "#nb: completing your null values in datafarame with other dataframe\n",
    "data2017['Region'] = data2017['Country'].map(data2016.set_index('Country')['Region']).fillna(data2017['Region'])"
   ]
  },
  {
   "cell_type": "code",
   "execution_count": 364,
   "metadata": {},
   "outputs": [
    {
     "name": "stdout",
     "output_type": "stream",
     "text": [
      "<class 'pandas.core.frame.DataFrame'>\n",
      "Int64Index: 155 entries, 0 to 154\n",
      "Data columns (total 13 columns):\n",
      "Country             155 non-null object\n",
      "Region              153 non-null category\n",
      "HappinessRank       155 non-null category\n",
      "HappinessScore      155 non-null float64\n",
      "WhiskerHigh         155 non-null float64\n",
      "WhiskerLow          155 non-null float64\n",
      "Economy             155 non-null float64\n",
      "Family              155 non-null float64\n",
      "Health              155 non-null float64\n",
      "Freedom             155 non-null float64\n",
      "Generosity          155 non-null float64\n",
      "Corruption          155 non-null float64\n",
      "DystopiaResidual    155 non-null float64\n",
      "dtypes: category(2), float64(10), object(1)\n",
      "memory usage: 21.6+ KB\n"
     ]
    }
   ],
   "source": [
    "data2017.info()"
   ]
  },
  {
   "cell_type": "code",
   "execution_count": 365,
   "metadata": {},
   "outputs": [
    {
     "data": {
      "text/html": [
       "<div>\n",
       "<style scoped>\n",
       "    .dataframe tbody tr th:only-of-type {\n",
       "        vertical-align: middle;\n",
       "    }\n",
       "\n",
       "    .dataframe tbody tr th {\n",
       "        vertical-align: top;\n",
       "    }\n",
       "\n",
       "    .dataframe thead th {\n",
       "        text-align: right;\n",
       "    }\n",
       "</style>\n",
       "<table border=\"1\" class=\"dataframe\">\n",
       "  <thead>\n",
       "    <tr style=\"text-align: right;\">\n",
       "      <th></th>\n",
       "      <th>Country</th>\n",
       "      <th>Region</th>\n",
       "      <th>HappinessRank</th>\n",
       "      <th>HappinessScore</th>\n",
       "      <th>WhiskerHigh</th>\n",
       "      <th>WhiskerLow</th>\n",
       "      <th>Economy</th>\n",
       "      <th>Family</th>\n",
       "      <th>Health</th>\n",
       "      <th>Freedom</th>\n",
       "      <th>Generosity</th>\n",
       "      <th>Corruption</th>\n",
       "      <th>DystopiaResidual</th>\n",
       "    </tr>\n",
       "  </thead>\n",
       "  <tbody>\n",
       "    <tr>\n",
       "      <th>32</th>\n",
       "      <td>Taiwan Province of China</td>\n",
       "      <td>NaN</td>\n",
       "      <td>33</td>\n",
       "      <td>6.422</td>\n",
       "      <td>6.494596</td>\n",
       "      <td>6.349404</td>\n",
       "      <td>1.433627</td>\n",
       "      <td>1.384565</td>\n",
       "      <td>0.793984</td>\n",
       "      <td>0.361467</td>\n",
       "      <td>0.258360</td>\n",
       "      <td>0.063829</td>\n",
       "      <td>2.126607</td>\n",
       "    </tr>\n",
       "    <tr>\n",
       "      <th>70</th>\n",
       "      <td>Hong Kong S.A.R., China</td>\n",
       "      <td>NaN</td>\n",
       "      <td>71</td>\n",
       "      <td>5.472</td>\n",
       "      <td>5.549594</td>\n",
       "      <td>5.394406</td>\n",
       "      <td>1.551675</td>\n",
       "      <td>1.262791</td>\n",
       "      <td>0.943062</td>\n",
       "      <td>0.490969</td>\n",
       "      <td>0.374466</td>\n",
       "      <td>0.293934</td>\n",
       "      <td>0.554633</td>\n",
       "    </tr>\n",
       "  </tbody>\n",
       "</table>\n",
       "</div>"
      ],
      "text/plain": [
       "                     Country Region HappinessRank  HappinessScore  \\\n",
       "32  Taiwan Province of China    NaN            33           6.422   \n",
       "70   Hong Kong S.A.R., China    NaN            71           5.472   \n",
       "\n",
       "    WhiskerHigh  WhiskerLow   Economy    Family    Health   Freedom  \\\n",
       "32     6.494596    6.349404  1.433627  1.384565  0.793984  0.361467   \n",
       "70     5.549594    5.394406  1.551675  1.262791  0.943062  0.490969   \n",
       "\n",
       "    Generosity  Corruption  DystopiaResidual  \n",
       "32    0.258360    0.063829          2.126607  \n",
       "70    0.374466    0.293934          0.554633  "
      ]
     },
     "execution_count": 365,
     "metadata": {},
     "output_type": "execute_result"
    }
   ],
   "source": [
    "data2017[data2017.Region.isnull()]"
   ]
  },
  {
   "cell_type": "code",
   "execution_count": 366,
   "metadata": {},
   "outputs": [
    {
     "name": "stdout",
     "output_type": "stream",
     "text": [
      "<class 'pandas.core.frame.DataFrame'>\n",
      "Int64Index: 155 entries, 0 to 154\n",
      "Data columns (total 13 columns):\n",
      "Country             155 non-null object\n",
      "Region              155 non-null object\n",
      "HappinessRank       155 non-null int64\n",
      "HappinessScore      155 non-null float64\n",
      "WhiskerHigh         155 non-null float64\n",
      "WhiskerLow          155 non-null float64\n",
      "Economy             155 non-null float64\n",
      "Family              155 non-null float64\n",
      "Health              155 non-null float64\n",
      "Freedom             155 non-null float64\n",
      "Generosity          155 non-null float64\n",
      "Corruption          155 non-null float64\n",
      "DystopiaResidual    155 non-null float64\n",
      "dtypes: float64(10), int64(1), object(2)\n",
      "memory usage: 17.0+ KB\n"
     ]
    }
   ],
   "source": [
    "#nb: replace nilai nan/null\n",
    "data2017 = data2017.replace(np.nan, 'Unknown')\n",
    "data2017.info()"
   ]
  }
 ],
 "metadata": {
  "kernelspec": {
   "display_name": "Python 3",
   "language": "python",
   "name": "python3"
  },
  "language_info": {
   "codemirror_mode": {
    "name": "ipython",
    "version": 3
   },
   "file_extension": ".py",
   "mimetype": "text/x-python",
   "name": "python",
   "nbconvert_exporter": "python",
   "pygments_lexer": "ipython3",
   "version": "3.7.0"
  }
 },
 "nbformat": 4,
 "nbformat_minor": 2
}
